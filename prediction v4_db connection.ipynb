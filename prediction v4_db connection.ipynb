{
 "cells": [
  {
   "cell_type": "code",
   "execution_count": 12,
   "metadata": {
    "collapsed": false
   },
   "outputs": [],
   "source": [
    "import os\n",
    "import numpy as np\n",
    "import pandas as pd\n",
    "import pymysql\n",
    "\n",
    "db = pymysql.connect(\"cs540.cbxoiclfiyyp.us-west-2.rds.amazonaws.com\", \"masterUsername\", \"1234567890\")\n",
    "#home_folder = os.path.expanduser(\"~\")\n",
    "#data_folder = os.path.join(home_folder, \"notebook_data\", \"basketball\")\n",
    "#data_filename = os.path.join(data_folder, \"TeamGameLog_2014-2015.csv\")\n",
    "results = pd.read_sql(('SELECT * FROM project.`TeamGameLog_2014-2015`'), db)\n",
    "#print(results)\n",
    "ladder = pd.read_sql(('SELECT * FROM project.`2014-2015`'), db)\n",
    "db.close()"
   ]
  },
  {
   "cell_type": "code",
   "execution_count": 14,
   "metadata": {
    "collapsed": false
   },
   "outputs": [
    {
     "data": {
      "text/html": [
       "<div>\n",
       "<table border=\"1\" class=\"dataframe\">\n",
       "  <thead>\n",
       "    <tr style=\"text-align: right;\">\n",
       "      <th></th>\n",
       "      <th>Date</th>\n",
       "      <th>VisitorTeam</th>\n",
       "      <th>VisitorPts</th>\n",
       "      <th>HomeTeam</th>\n",
       "      <th>HomePts</th>\n",
       "      <th>HomeWin</th>\n",
       "    </tr>\n",
       "  </thead>\n",
       "  <tbody>\n",
       "    <tr>\n",
       "      <th>0</th>\n",
       "      <td>4/15/2015</td>\n",
       "      <td>Utah Jazz</td>\n",
       "      <td>91</td>\n",
       "      <td>Houston Rockets</td>\n",
       "      <td>117</td>\n",
       "      <td>True</td>\n",
       "    </tr>\n",
       "    <tr>\n",
       "      <th>1</th>\n",
       "      <td>4/15/2015</td>\n",
       "      <td>Denver Nuggets</td>\n",
       "      <td>126</td>\n",
       "      <td>Golden State Warriors</td>\n",
       "      <td>133</td>\n",
       "      <td>True</td>\n",
       "    </tr>\n",
       "    <tr>\n",
       "      <th>2</th>\n",
       "      <td>4/15/2015</td>\n",
       "      <td>Washington Wizards</td>\n",
       "      <td>108</td>\n",
       "      <td>Cleveland Cavaliers</td>\n",
       "      <td>113</td>\n",
       "      <td>True</td>\n",
       "    </tr>\n",
       "    <tr>\n",
       "      <th>3</th>\n",
       "      <td>4/15/2015</td>\n",
       "      <td>Charlotte Hornets</td>\n",
       "      <td>87</td>\n",
       "      <td>Toronto Raptors</td>\n",
       "      <td>92</td>\n",
       "      <td>True</td>\n",
       "    </tr>\n",
       "    <tr>\n",
       "      <th>4</th>\n",
       "      <td>4/15/2015</td>\n",
       "      <td>Portland Trail Blazers</td>\n",
       "      <td>87</td>\n",
       "      <td>Dallas Mavericks</td>\n",
       "      <td>114</td>\n",
       "      <td>True</td>\n",
       "    </tr>\n",
       "    <tr>\n",
       "      <th>5</th>\n",
       "      <td>4/15/2015</td>\n",
       "      <td>Detroit Pistons</td>\n",
       "      <td>112</td>\n",
       "      <td>New York Knicks</td>\n",
       "      <td>90</td>\n",
       "      <td>False</td>\n",
       "    </tr>\n",
       "  </tbody>\n",
       "</table>\n",
       "</div>"
      ],
      "text/plain": [
       "        Date             VisitorTeam VisitorPts               HomeTeam  \\\n",
       "0  4/15/2015               Utah Jazz         91        Houston Rockets   \n",
       "1  4/15/2015          Denver Nuggets        126  Golden State Warriors   \n",
       "2  4/15/2015      Washington Wizards        108    Cleveland Cavaliers   \n",
       "3  4/15/2015       Charlotte Hornets         87        Toronto Raptors   \n",
       "4  4/15/2015  Portland Trail Blazers         87       Dallas Mavericks   \n",
       "5  4/15/2015         Detroit Pistons        112        New York Knicks   \n",
       "\n",
       "  HomePts HomeWin  \n",
       "0     117    True  \n",
       "1     133    True  \n",
       "2     113    True  \n",
       "3      92    True  \n",
       "4     114    True  \n",
       "5      90   False  "
      ]
     },
     "execution_count": 14,
     "metadata": {},
     "output_type": "execute_result"
    }
   ],
   "source": [
    "columns = ['Date', 'VisitorTeam', 'VisitorPts', 'HomeTeam', 'HomePts']\n",
    "l = int(len(results.index)/2)\n",
    "index = list(range(0, l))\n",
    "df = pd.DataFrame(index=index , columns=columns)\n",
    "\n",
    "for index, row in results.iterrows():    \n",
    "    if index % 2 == 0:\n",
    "        if \"@\" in row[\"MATCHUP\"]: \n",
    "            visitor_team, vistorPts = row[\"TEAM_NAME\"], row[\"PTS\"]\n",
    "            if index % 2 == 0:\n",
    "                home_team = results.loc[[index+1]][\"TEAM_NAME\"].values[0]\n",
    "                homePts = results.loc[[index+1]][\"PTS\"].values[0]\n",
    "            else:\n",
    "                home_team = results.loc[[index-1]][\"TEAM_NAME\"].values[0]\n",
    "                homePts = results.loc[[index-1]][\"PTS\"].values[0]\n",
    "        else:\n",
    "            home_team, homePts = row[\"TEAM_NAME\"], row[\"PTS\"]\n",
    "            if index % 2 == 0:\n",
    "                visitor_team = results.loc[[index+1]][\"TEAM_NAME\"].values[0]\n",
    "                visitorPts = results.loc[[index+1]][\"PTS\"].values[0]\n",
    "            else:\n",
    "                visitor_team = results.loc[[index-1]][\"TEAM_NAME\"].values[0]\n",
    "                visitorPts = results.loc[[index-1]][\"PTS\"].values[0]\n",
    "            \n",
    "        df.ix[index/2]['Date'] = row['GAME_DATE']\n",
    "        df.ix[index/2]['VisitorTeam'] = visitor_team\n",
    "        df.ix[index/2]['VisitorPts'] = visitorPts\n",
    "        df.ix[index/2]['HomeTeam'] = home_team\n",
    "        df.ix[index/2]['HomePts'] = homePts\n",
    "\n",
    "df[\"HomeWin\"] = df[\"VisitorPts\"] < df[\"HomePts\"]\n",
    "# Our \"class values\"\n",
    "y_true = df[\"HomeWin\"].values\n",
    "df.ix[:5]"
   ]
  },
  {
   "cell_type": "code",
   "execution_count": 15,
   "metadata": {
    "collapsed": false
   },
   "outputs": [
    {
     "name": "stdout",
     "output_type": "stream",
     "text": [
      "Home Win percentage: 54.0%\n"
     ]
    }
   ],
   "source": [
    "print(\"Home Win percentage: {0:.1f}%\".format(100 * df[\"HomeWin\"].sum() / df[\"HomeWin\"].count()))"
   ]
  },
  {
   "cell_type": "code",
   "execution_count": 16,
   "metadata": {
    "collapsed": false,
    "scrolled": true
   },
   "outputs": [
    {
     "data": {
      "text/html": [
       "<div>\n",
       "<table border=\"1\" class=\"dataframe\">\n",
       "  <thead>\n",
       "    <tr style=\"text-align: right;\">\n",
       "      <th></th>\n",
       "      <th>Date</th>\n",
       "      <th>VisitorTeam</th>\n",
       "      <th>VisitorPts</th>\n",
       "      <th>HomeTeam</th>\n",
       "      <th>HomePts</th>\n",
       "      <th>HomeWin</th>\n",
       "      <th>HomeLastWin</th>\n",
       "      <th>VisitorLastWin</th>\n",
       "    </tr>\n",
       "  </thead>\n",
       "  <tbody>\n",
       "    <tr>\n",
       "      <th>0</th>\n",
       "      <td>4/15/2015</td>\n",
       "      <td>Utah Jazz</td>\n",
       "      <td>91</td>\n",
       "      <td>Houston Rockets</td>\n",
       "      <td>117</td>\n",
       "      <td>True</td>\n",
       "      <td>False</td>\n",
       "      <td>False</td>\n",
       "    </tr>\n",
       "    <tr>\n",
       "      <th>1</th>\n",
       "      <td>4/15/2015</td>\n",
       "      <td>Denver Nuggets</td>\n",
       "      <td>126</td>\n",
       "      <td>Golden State Warriors</td>\n",
       "      <td>133</td>\n",
       "      <td>True</td>\n",
       "      <td>False</td>\n",
       "      <td>False</td>\n",
       "    </tr>\n",
       "    <tr>\n",
       "      <th>2</th>\n",
       "      <td>4/15/2015</td>\n",
       "      <td>Washington Wizards</td>\n",
       "      <td>108</td>\n",
       "      <td>Cleveland Cavaliers</td>\n",
       "      <td>113</td>\n",
       "      <td>True</td>\n",
       "      <td>False</td>\n",
       "      <td>False</td>\n",
       "    </tr>\n",
       "    <tr>\n",
       "      <th>3</th>\n",
       "      <td>4/15/2015</td>\n",
       "      <td>Charlotte Hornets</td>\n",
       "      <td>87</td>\n",
       "      <td>Toronto Raptors</td>\n",
       "      <td>92</td>\n",
       "      <td>True</td>\n",
       "      <td>False</td>\n",
       "      <td>False</td>\n",
       "    </tr>\n",
       "    <tr>\n",
       "      <th>4</th>\n",
       "      <td>4/15/2015</td>\n",
       "      <td>Portland Trail Blazers</td>\n",
       "      <td>87</td>\n",
       "      <td>Dallas Mavericks</td>\n",
       "      <td>114</td>\n",
       "      <td>True</td>\n",
       "      <td>False</td>\n",
       "      <td>False</td>\n",
       "    </tr>\n",
       "    <tr>\n",
       "      <th>5</th>\n",
       "      <td>4/15/2015</td>\n",
       "      <td>Detroit Pistons</td>\n",
       "      <td>112</td>\n",
       "      <td>New York Knicks</td>\n",
       "      <td>90</td>\n",
       "      <td>False</td>\n",
       "      <td>False</td>\n",
       "      <td>False</td>\n",
       "    </tr>\n",
       "  </tbody>\n",
       "</table>\n",
       "</div>"
      ],
      "text/plain": [
       "        Date             VisitorTeam VisitorPts               HomeTeam  \\\n",
       "0  4/15/2015               Utah Jazz         91        Houston Rockets   \n",
       "1  4/15/2015          Denver Nuggets        126  Golden State Warriors   \n",
       "2  4/15/2015      Washington Wizards        108    Cleveland Cavaliers   \n",
       "3  4/15/2015       Charlotte Hornets         87        Toronto Raptors   \n",
       "4  4/15/2015  Portland Trail Blazers         87       Dallas Mavericks   \n",
       "5  4/15/2015         Detroit Pistons        112        New York Knicks   \n",
       "\n",
       "  HomePts HomeWin HomeLastWin VisitorLastWin  \n",
       "0     117    True       False          False  \n",
       "1     133    True       False          False  \n",
       "2     113    True       False          False  \n",
       "3      92    True       False          False  \n",
       "4     114    True       False          False  \n",
       "5      90   False       False          False  "
      ]
     },
     "execution_count": 16,
     "metadata": {},
     "output_type": "execute_result"
    }
   ],
   "source": [
    "df[\"HomeLastWin\"] = False\n",
    "df[\"VisitorLastWin\"] = False\n",
    "# This creates two new columns, all set to False\n",
    "df.ix[:5]"
   ]
  },
  {
   "cell_type": "code",
   "execution_count": 17,
   "metadata": {
    "collapsed": false
   },
   "outputs": [
    {
     "data": {
      "text/html": [
       "<div>\n",
       "<table border=\"1\" class=\"dataframe\">\n",
       "  <thead>\n",
       "    <tr style=\"text-align: right;\">\n",
       "      <th></th>\n",
       "      <th>Date</th>\n",
       "      <th>VisitorTeam</th>\n",
       "      <th>VisitorPts</th>\n",
       "      <th>HomeTeam</th>\n",
       "      <th>HomePts</th>\n",
       "      <th>HomeWin</th>\n",
       "      <th>HomeLastWin</th>\n",
       "      <th>VisitorLastWin</th>\n",
       "    </tr>\n",
       "  </thead>\n",
       "  <tbody>\n",
       "    <tr>\n",
       "      <th>20</th>\n",
       "      <td>4/13/2015</td>\n",
       "      <td>Orlando Magic</td>\n",
       "      <td>93</td>\n",
       "      <td>Miami Heat</td>\n",
       "      <td>100</td>\n",
       "      <td>True</td>\n",
       "      <td>True</td>\n",
       "      <td>False</td>\n",
       "    </tr>\n",
       "    <tr>\n",
       "      <th>21</th>\n",
       "      <td>4/13/2015</td>\n",
       "      <td>New York Knicks</td>\n",
       "      <td>112</td>\n",
       "      <td>Atlanta Hawks</td>\n",
       "      <td>108</td>\n",
       "      <td>False</td>\n",
       "      <td>True</td>\n",
       "      <td>False</td>\n",
       "    </tr>\n",
       "    <tr>\n",
       "      <th>22</th>\n",
       "      <td>4/13/2015</td>\n",
       "      <td>Chicago Bulls</td>\n",
       "      <td>112</td>\n",
       "      <td>Brooklyn Nets</td>\n",
       "      <td>86</td>\n",
       "      <td>False</td>\n",
       "      <td>True</td>\n",
       "      <td>False</td>\n",
       "    </tr>\n",
       "    <tr>\n",
       "      <th>23</th>\n",
       "      <td>4/13/2015</td>\n",
       "      <td>Dallas Mavericks</td>\n",
       "      <td>92</td>\n",
       "      <td>Utah Jazz</td>\n",
       "      <td>109</td>\n",
       "      <td>True</td>\n",
       "      <td>False</td>\n",
       "      <td>True</td>\n",
       "    </tr>\n",
       "    <tr>\n",
       "      <th>24</th>\n",
       "      <td>4/13/2015</td>\n",
       "      <td>Portland Trail Blazers</td>\n",
       "      <td>92</td>\n",
       "      <td>Oklahoma City Thunder</td>\n",
       "      <td>101</td>\n",
       "      <td>True</td>\n",
       "      <td>False</td>\n",
       "      <td>False</td>\n",
       "    </tr>\n",
       "    <tr>\n",
       "      <th>25</th>\n",
       "      <td>4/13/2015</td>\n",
       "      <td>New Orleans Pelicans</td>\n",
       "      <td>100</td>\n",
       "      <td>Minnesota Timberwolves</td>\n",
       "      <td>88</td>\n",
       "      <td>False</td>\n",
       "      <td>True</td>\n",
       "      <td>True</td>\n",
       "    </tr>\n",
       "  </tbody>\n",
       "</table>\n",
       "</div>"
      ],
      "text/plain": [
       "         Date             VisitorTeam VisitorPts                HomeTeam  \\\n",
       "20  4/13/2015           Orlando Magic         93              Miami Heat   \n",
       "21  4/13/2015         New York Knicks        112           Atlanta Hawks   \n",
       "22  4/13/2015           Chicago Bulls        112           Brooklyn Nets   \n",
       "23  4/13/2015        Dallas Mavericks         92               Utah Jazz   \n",
       "24  4/13/2015  Portland Trail Blazers         92   Oklahoma City Thunder   \n",
       "25  4/13/2015    New Orleans Pelicans        100  Minnesota Timberwolves   \n",
       "\n",
       "   HomePts HomeWin HomeLastWin VisitorLastWin  \n",
       "20     100    True        True          False  \n",
       "21     108   False        True          False  \n",
       "22      86   False        True          False  \n",
       "23     109    True       False           True  \n",
       "24     101    True       False          False  \n",
       "25      88   False        True           True  "
      ]
     },
     "execution_count": 17,
     "metadata": {},
     "output_type": "execute_result"
    }
   ],
   "source": [
    "# Now compute the actual values for these\n",
    "# Did the home and visitor teams win their last game?\n",
    "from collections import defaultdict\n",
    "won_last = defaultdict(int)\n",
    "\n",
    "for index, row in df.iterrows():  # Note that this is not efficient\n",
    "    home_team = row[\"HomeTeam\"]\n",
    "    visitor_team = row[\"VisitorTeam\"]\n",
    "    row[\"HomeLastWin\"] = won_last[home_team]\n",
    "    row[\"VisitorLastWin\"] = won_last[visitor_team]\n",
    "    df.ix[index] = row    \n",
    "    # Set current win\n",
    "    won_last[home_team] = row[\"HomeWin\"]\n",
    "    won_last[visitor_team] = not row[\"HomeWin\"]\n",
    "df.ix[20:25]"
   ]
  },
  {
   "cell_type": "code",
   "execution_count": 18,
   "metadata": {
    "collapsed": false
   },
   "outputs": [
    {
     "name": "stdout",
     "output_type": "stream",
     "text": [
      "Using just the last result from the home and visitor teams\n",
      "Accuracy: 52.4%\n"
     ]
    },
    {
     "name": "stderr",
     "output_type": "stream",
     "text": [
      "C:\\Users\\Lily\\Anaconda2\\envs\\python3.4\\lib\\site-packages\\sklearn\\cross_validation.py:44: DeprecationWarning: This module was deprecated in version 0.18 in favor of the model_selection module into which all the refactored classes and functions are moved. Also note that the interface of the new CV iterators are different from that of this module. This module will be removed in 0.20.\n",
      "  \"This module will be removed in 0.20.\", DeprecationWarning)\n"
     ]
    }
   ],
   "source": [
    "from sklearn.tree import DecisionTreeClassifier\n",
    "from sklearn.cross_validation import cross_val_score\n",
    "\n",
    "# Create a dataset with just the neccessary information\n",
    "X_previouswins = df[[\"HomeLastWin\", \"VisitorLastWin\"]].values\n",
    "clf = DecisionTreeClassifier()\n",
    "scores = cross_val_score(clf, X_previouswins, y_true, scoring='accuracy')\n",
    "print(\"Using just the last result from the home and visitor teams\")\n",
    "print(\"Accuracy: {0:.1f}%\".format(np.mean(scores) * 100))"
   ]
  },
  {
   "cell_type": "code",
   "execution_count": 19,
   "metadata": {
    "collapsed": true
   },
   "outputs": [],
   "source": [
    "# What about win streaks?\n",
    "df[\"HomeWinStreak\"] = 0\n",
    "df[\"VisitorWinStreak\"] = 0\n",
    "# Did the home and visitor teams win their last game?\n",
    "from collections import defaultdict\n",
    "win_streak = defaultdict(int)\n",
    "\n",
    "for index, row in df.iterrows():  # Note that this is not efficient\n",
    "    home_team = row[\"HomeTeam\"]\n",
    "    visitor_team = row[\"VisitorTeam\"]\n",
    "    row[\"HomeWinStreak\"] = win_streak[home_team]\n",
    "    row[\"VisitorWinStreak\"] = win_streak[visitor_team]\n",
    "    df.ix[index] = row    \n",
    "    # Set current win\n",
    "    if row[\"HomeWin\"]:\n",
    "        win_streak[home_team] += 1\n",
    "        win_streak[visitor_team] = 0\n",
    "    else:\n",
    "        win_streak[home_team] = 0\n",
    "        win_streak[visitor_team] += 1"
   ]
  },
  {
   "cell_type": "code",
   "execution_count": 20,
   "metadata": {
    "collapsed": false
   },
   "outputs": [
    {
     "name": "stdout",
     "output_type": "stream",
     "text": [
      "Using whether the home team is ranked higher\n",
      "Accuracy: 53.3%\n"
     ]
    }
   ],
   "source": [
    "clf = DecisionTreeClassifier()\n",
    "X_winstreak =  df[[\"HomeLastWin\", \"VisitorLastWin\", \"HomeWinStreak\", \"VisitorWinStreak\"]].values\n",
    "scores = cross_val_score(clf, X_winstreak, y_true, scoring='accuracy')\n",
    "print(\"Using whether the home team is ranked higher\")\n",
    "print(\"Accuracy: {0:.1f}%\".format(np.mean(scores) * 100))"
   ]
  },
  {
   "cell_type": "code",
   "execution_count": 32,
   "metadata": {
    "collapsed": false
   },
   "outputs": [],
   "source": [
    "ladder['Rank'] = 0\n",
    "for index, row in ladder.iterrows():\n",
    "    ladder.set_value(index, 'Rank', index+1)\n",
    "#ladder"
   ]
  },
  {
   "cell_type": "code",
   "execution_count": 22,
   "metadata": {
    "collapsed": false
   },
   "outputs": [
    {
     "data": {
      "text/html": [
       "<div>\n",
       "<table border=\"1\" class=\"dataframe\">\n",
       "  <thead>\n",
       "    <tr style=\"text-align: right;\">\n",
       "      <th></th>\n",
       "      <th>Date</th>\n",
       "      <th>VisitorTeam</th>\n",
       "      <th>VisitorPts</th>\n",
       "      <th>HomeTeam</th>\n",
       "      <th>HomePts</th>\n",
       "      <th>HomeWin</th>\n",
       "      <th>HomeLastWin</th>\n",
       "      <th>VisitorLastWin</th>\n",
       "      <th>HomeWinStreak</th>\n",
       "      <th>VisitorWinStreak</th>\n",
       "      <th>HomeTeamRanksHigher</th>\n",
       "    </tr>\n",
       "  </thead>\n",
       "  <tbody>\n",
       "    <tr>\n",
       "      <th>0</th>\n",
       "      <td>4/15/2015</td>\n",
       "      <td>Utah Jazz</td>\n",
       "      <td>91</td>\n",
       "      <td>Houston Rockets</td>\n",
       "      <td>117</td>\n",
       "      <td>True</td>\n",
       "      <td>False</td>\n",
       "      <td>False</td>\n",
       "      <td>0</td>\n",
       "      <td>0</td>\n",
       "      <td>0</td>\n",
       "    </tr>\n",
       "    <tr>\n",
       "      <th>1</th>\n",
       "      <td>4/15/2015</td>\n",
       "      <td>Denver Nuggets</td>\n",
       "      <td>126</td>\n",
       "      <td>Golden State Warriors</td>\n",
       "      <td>133</td>\n",
       "      <td>True</td>\n",
       "      <td>False</td>\n",
       "      <td>False</td>\n",
       "      <td>0</td>\n",
       "      <td>0</td>\n",
       "      <td>1</td>\n",
       "    </tr>\n",
       "    <tr>\n",
       "      <th>2</th>\n",
       "      <td>4/15/2015</td>\n",
       "      <td>Washington Wizards</td>\n",
       "      <td>108</td>\n",
       "      <td>Cleveland Cavaliers</td>\n",
       "      <td>113</td>\n",
       "      <td>True</td>\n",
       "      <td>False</td>\n",
       "      <td>False</td>\n",
       "      <td>0</td>\n",
       "      <td>0</td>\n",
       "      <td>0</td>\n",
       "    </tr>\n",
       "    <tr>\n",
       "      <th>3</th>\n",
       "      <td>4/15/2015</td>\n",
       "      <td>Charlotte Hornets</td>\n",
       "      <td>87</td>\n",
       "      <td>Toronto Raptors</td>\n",
       "      <td>92</td>\n",
       "      <td>True</td>\n",
       "      <td>False</td>\n",
       "      <td>False</td>\n",
       "      <td>0</td>\n",
       "      <td>0</td>\n",
       "      <td>1</td>\n",
       "    </tr>\n",
       "    <tr>\n",
       "      <th>4</th>\n",
       "      <td>4/15/2015</td>\n",
       "      <td>Portland Trail Blazers</td>\n",
       "      <td>87</td>\n",
       "      <td>Dallas Mavericks</td>\n",
       "      <td>114</td>\n",
       "      <td>True</td>\n",
       "      <td>False</td>\n",
       "      <td>False</td>\n",
       "      <td>0</td>\n",
       "      <td>0</td>\n",
       "      <td>0</td>\n",
       "    </tr>\n",
       "  </tbody>\n",
       "</table>\n",
       "</div>"
      ],
      "text/plain": [
       "        Date             VisitorTeam VisitorPts               HomeTeam  \\\n",
       "0  4/15/2015               Utah Jazz         91        Houston Rockets   \n",
       "1  4/15/2015          Denver Nuggets        126  Golden State Warriors   \n",
       "2  4/15/2015      Washington Wizards        108    Cleveland Cavaliers   \n",
       "3  4/15/2015       Charlotte Hornets         87        Toronto Raptors   \n",
       "4  4/15/2015  Portland Trail Blazers         87       Dallas Mavericks   \n",
       "\n",
       "  HomePts HomeWin HomeLastWin VisitorLastWin  HomeWinStreak  VisitorWinStreak  \\\n",
       "0     117    True       False          False              0                 0   \n",
       "1     133    True       False          False              0                 0   \n",
       "2     113    True       False          False              0                 0   \n",
       "3      92    True       False          False              0                 0   \n",
       "4     114    True       False          False              0                 0   \n",
       "\n",
       "   HomeTeamRanksHigher  \n",
       "0                    0  \n",
       "1                    1  \n",
       "2                    0  \n",
       "3                    1  \n",
       "4                    0  "
      ]
     },
     "execution_count": 22,
     "metadata": {},
     "output_type": "execute_result"
    }
   ],
   "source": [
    "# We can create a new feature -- HomeTeamRanksHigher\\\n",
    "df[\"HomeTeamRanksHigher\"] = 0\n",
    "for index, row in df.iterrows():\n",
    "    home_team = row[\"HomeTeam\"]\n",
    "    visitor_team = row[\"VisitorTeam\"]\n",
    "    \n",
    "    if home_team == \"New Orleans Hornets\":\n",
    "        home_team = \"New Orleans Pelicans\"\n",
    "    elif visitor_team == \"New Orleans Hornets\":\n",
    "        visitor_team = \"New Orleans Pelicans\"      \n",
    "    \n",
    "    home_rank = ladder[ladder[\"TEAM_NAME\"] == home_team][\"Rank\"].values[0]\n",
    "    visitor_rank = ladder[ladder[\"TEAM_NAME\"] == visitor_team][\"Rank\"].values[0]\n",
    "    row[\"HomeTeamRanksHigher\"] = int(home_rank > visitor_rank)\n",
    "    df.ix[index] = row\n",
    "df[:5]"
   ]
  },
  {
   "cell_type": "code",
   "execution_count": 23,
   "metadata": {
    "collapsed": false
   },
   "outputs": [
    {
     "name": "stdout",
     "output_type": "stream",
     "text": [
      "Using whether the home team is ranked higher\n",
      "Accuracy: 54.1%\n"
     ]
    }
   ],
   "source": [
    "X_homehigher =  df[[\"HomeLastWin\", \"VisitorLastWin\", \"HomeTeamRanksHigher\"]].values\n",
    "clf = DecisionTreeClassifier()\n",
    "scores = cross_val_score(clf, X_homehigher, y_true, scoring='accuracy')\n",
    "print(\"Using whether the home team is ranked higher\")\n",
    "print(\"Accuracy: {0:.1f}%\".format(np.mean(scores) * 100))"
   ]
  },
  {
   "cell_type": "code",
   "execution_count": 24,
   "metadata": {
    "collapsed": false
   },
   "outputs": [
    {
     "name": "stdout",
     "output_type": "stream",
     "text": [
      "Accuracy: 54.2%\n"
     ]
    },
    {
     "name": "stderr",
     "output_type": "stream",
     "text": [
      "C:\\Users\\Lily\\Anaconda2\\envs\\python3.4\\lib\\site-packages\\sklearn\\grid_search.py:43: DeprecationWarning: This module was deprecated in version 0.18 in favor of the model_selection module into which all the refactored classes and functions are moved. This module will be removed in 0.20.\n",
      "  DeprecationWarning)\n"
     ]
    }
   ],
   "source": [
    "from sklearn.grid_search import GridSearchCV\n",
    "\n",
    "parameter_space = {\n",
    "                   \"max_depth\": [1, 2, 3, 4, 5, 6, 7, 8, 9, 10, 11, 12, 13, 14, 15, 16, 17, 18, 19, 20],\n",
    "                   }\n",
    "clf = DecisionTreeClassifier()\n",
    "grid = GridSearchCV(clf, parameter_space)\n",
    "grid.fit(X_homehigher, y_true)\n",
    "print(\"Accuracy: {0:.1f}%\".format(grid.best_score_ * 100))"
   ]
  },
  {
   "cell_type": "code",
   "execution_count": 25,
   "metadata": {
    "collapsed": false
   },
   "outputs": [
    {
     "data": {
      "text/html": [
       "<div>\n",
       "<table border=\"1\" class=\"dataframe\">\n",
       "  <thead>\n",
       "    <tr style=\"text-align: right;\">\n",
       "      <th></th>\n",
       "      <th>Date</th>\n",
       "      <th>VisitorTeam</th>\n",
       "      <th>VisitorPts</th>\n",
       "      <th>HomeTeam</th>\n",
       "      <th>HomePts</th>\n",
       "      <th>HomeWin</th>\n",
       "      <th>HomeLastWin</th>\n",
       "      <th>VisitorLastWin</th>\n",
       "      <th>HomeWinStreak</th>\n",
       "      <th>VisitorWinStreak</th>\n",
       "      <th>HomeTeamRanksHigher</th>\n",
       "      <th>HomeTeamWonLast</th>\n",
       "    </tr>\n",
       "  </thead>\n",
       "  <tbody>\n",
       "    <tr>\n",
       "      <th>0</th>\n",
       "      <td>4/15/2015</td>\n",
       "      <td>Utah Jazz</td>\n",
       "      <td>91</td>\n",
       "      <td>Houston Rockets</td>\n",
       "      <td>117</td>\n",
       "      <td>True</td>\n",
       "      <td>False</td>\n",
       "      <td>False</td>\n",
       "      <td>0</td>\n",
       "      <td>0</td>\n",
       "      <td>0</td>\n",
       "      <td>0</td>\n",
       "    </tr>\n",
       "    <tr>\n",
       "      <th>1</th>\n",
       "      <td>4/15/2015</td>\n",
       "      <td>Denver Nuggets</td>\n",
       "      <td>126</td>\n",
       "      <td>Golden State Warriors</td>\n",
       "      <td>133</td>\n",
       "      <td>True</td>\n",
       "      <td>False</td>\n",
       "      <td>False</td>\n",
       "      <td>0</td>\n",
       "      <td>0</td>\n",
       "      <td>1</td>\n",
       "      <td>0</td>\n",
       "    </tr>\n",
       "    <tr>\n",
       "      <th>2</th>\n",
       "      <td>4/15/2015</td>\n",
       "      <td>Washington Wizards</td>\n",
       "      <td>108</td>\n",
       "      <td>Cleveland Cavaliers</td>\n",
       "      <td>113</td>\n",
       "      <td>True</td>\n",
       "      <td>False</td>\n",
       "      <td>False</td>\n",
       "      <td>0</td>\n",
       "      <td>0</td>\n",
       "      <td>0</td>\n",
       "      <td>0</td>\n",
       "    </tr>\n",
       "    <tr>\n",
       "      <th>3</th>\n",
       "      <td>4/15/2015</td>\n",
       "      <td>Charlotte Hornets</td>\n",
       "      <td>87</td>\n",
       "      <td>Toronto Raptors</td>\n",
       "      <td>92</td>\n",
       "      <td>True</td>\n",
       "      <td>False</td>\n",
       "      <td>False</td>\n",
       "      <td>0</td>\n",
       "      <td>0</td>\n",
       "      <td>1</td>\n",
       "      <td>0</td>\n",
       "    </tr>\n",
       "    <tr>\n",
       "      <th>4</th>\n",
       "      <td>4/15/2015</td>\n",
       "      <td>Portland Trail Blazers</td>\n",
       "      <td>87</td>\n",
       "      <td>Dallas Mavericks</td>\n",
       "      <td>114</td>\n",
       "      <td>True</td>\n",
       "      <td>False</td>\n",
       "      <td>False</td>\n",
       "      <td>0</td>\n",
       "      <td>0</td>\n",
       "      <td>0</td>\n",
       "      <td>0</td>\n",
       "    </tr>\n",
       "    <tr>\n",
       "      <th>5</th>\n",
       "      <td>4/15/2015</td>\n",
       "      <td>Detroit Pistons</td>\n",
       "      <td>112</td>\n",
       "      <td>New York Knicks</td>\n",
       "      <td>90</td>\n",
       "      <td>False</td>\n",
       "      <td>False</td>\n",
       "      <td>False</td>\n",
       "      <td>0</td>\n",
       "      <td>0</td>\n",
       "      <td>1</td>\n",
       "      <td>0</td>\n",
       "    </tr>\n",
       "  </tbody>\n",
       "</table>\n",
       "</div>"
      ],
      "text/plain": [
       "        Date             VisitorTeam VisitorPts               HomeTeam  \\\n",
       "0  4/15/2015               Utah Jazz         91        Houston Rockets   \n",
       "1  4/15/2015          Denver Nuggets        126  Golden State Warriors   \n",
       "2  4/15/2015      Washington Wizards        108    Cleveland Cavaliers   \n",
       "3  4/15/2015       Charlotte Hornets         87        Toronto Raptors   \n",
       "4  4/15/2015  Portland Trail Blazers         87       Dallas Mavericks   \n",
       "5  4/15/2015         Detroit Pistons        112        New York Knicks   \n",
       "\n",
       "  HomePts HomeWin HomeLastWin VisitorLastWin  HomeWinStreak  VisitorWinStreak  \\\n",
       "0     117    True       False          False              0                 0   \n",
       "1     133    True       False          False              0                 0   \n",
       "2     113    True       False          False              0                 0   \n",
       "3      92    True       False          False              0                 0   \n",
       "4     114    True       False          False              0                 0   \n",
       "5      90   False       False          False              0                 0   \n",
       "\n",
       "   HomeTeamRanksHigher  HomeTeamWonLast  \n",
       "0                    0                0  \n",
       "1                    1                0  \n",
       "2                    0                0  \n",
       "3                    1                0  \n",
       "4                    0                0  \n",
       "5                    1                0  "
      ]
     },
     "execution_count": 25,
     "metadata": {},
     "output_type": "execute_result"
    }
   ],
   "source": [
    "# Who won the last match? We ignore home/visitor for this bit\n",
    "last_match_winner = defaultdict(int)\n",
    "df[\"HomeTeamWonLast\"] = 0\n",
    "\n",
    "for index, row in df.iterrows():\n",
    "    home_team = row[\"HomeTeam\"]\n",
    "    visitor_team = row[\"VisitorTeam\"]\n",
    "    teams = tuple(sorted([home_team, visitor_team]))  # Sort for a consistent ordering\n",
    "    # Set in the row, who won the last encounter\n",
    "    row[\"HomeTeamWonLast\"] = 1 if last_match_winner[teams] == row[\"HomeTeam\"] else 0\n",
    "    df.ix[index] = row   # -------------------------------------------------------------------\n",
    "    # Who won this one?\n",
    "    winner = row[\"HomeTeam\"] if row[\"HomeWin\"] else row[\"VisitorTeam\"]\n",
    "    last_match_winner[teams] = winner\n",
    "df.ix[:5]"
   ]
  },
  {
   "cell_type": "code",
   "execution_count": 33,
   "metadata": {
    "collapsed": false
   },
   "outputs": [
    {
     "name": "stdout",
     "output_type": "stream",
     "text": [
      "[[0 0]\n",
      " [1 0]\n",
      " [0 0]\n",
      " ..., \n",
      " [1 1]\n",
      " [0 0]\n",
      " [1 0]]\n",
      "Using whether the home team is ranked higher\n",
      "Accuracy: 52.6%\n"
     ]
    }
   ],
   "source": [
    "X_home_higher =  df[[\"HomeTeamRanksHigher\", \"HomeTeamWonLast\"]].values\n",
    "print(X_home_higher)\n",
    "clf = DecisionTreeClassifier()\n",
    "scores = cross_val_score(clf, X_home_higher, y_true, scoring='accuracy')\n",
    "print(\"Using whether the home team is ranked higher\")\n",
    "print(\"Accuracy: {0:.1f}%\".format(np.mean(scores) * 100))"
   ]
  },
  {
   "cell_type": "code",
   "execution_count": 27,
   "metadata": {
    "collapsed": false
   },
   "outputs": [
    {
     "name": "stdout",
     "output_type": "stream",
     "text": [
      "Accuracy: 56.3%\n"
     ]
    }
   ],
   "source": [
    "from sklearn.preprocessing import LabelEncoder, OneHotEncoder\n",
    "encoding = LabelEncoder()\n",
    "encoding.fit(df[\"HomeTeam\"].values)\n",
    "home_teams = encoding.transform(df[\"HomeTeam\"].values)\n",
    "visitor_teams = encoding.transform(df[\"VisitorTeam\"].values)\n",
    "X_teams = np.vstack([home_teams, visitor_teams]).T\n",
    "\n",
    "onehot = OneHotEncoder()\n",
    "X_teams = onehot.fit_transform(X_teams).todense()\n",
    "\n",
    "clf = DecisionTreeClassifier()\n",
    "scores = cross_val_score(clf, X_teams, y_true, scoring='accuracy')\n",
    "print(\"Accuracy: {0:.1f}%\".format(np.mean(scores) * 100))"
   ]
  },
  {
   "cell_type": "code",
   "execution_count": 28,
   "metadata": {
    "collapsed": false
   },
   "outputs": [
    {
     "name": "stdout",
     "output_type": "stream",
     "text": [
      "Using full team labels is ranked higher\n",
      "Accuracy: 55.2%\n"
     ]
    }
   ],
   "source": [
    "from sklearn.ensemble import RandomForestClassifier\n",
    "clf = RandomForestClassifier()\n",
    "scores = cross_val_score(clf, X_teams, y_true, scoring='accuracy')\n",
    "print(\"Using full team labels is ranked higher\")\n",
    "print(\"Accuracy: {0:.1f}%\".format(np.mean(scores) * 100))"
   ]
  },
  {
   "cell_type": "code",
   "execution_count": 29,
   "metadata": {
    "collapsed": false
   },
   "outputs": [
    {
     "name": "stdout",
     "output_type": "stream",
     "text": [
      "(1230, 62)\n"
     ]
    }
   ],
   "source": [
    "X_all = np.hstack([X_home_higher, X_teams])\n",
    "print(X_all.shape)"
   ]
  },
  {
   "cell_type": "code",
   "execution_count": 34,
   "metadata": {
    "collapsed": false
   },
   "outputs": [
    {
     "name": "stdout",
     "output_type": "stream",
     "text": [
      "Using whether the home team is ranked higher\n",
      "Accuracy: 56.1%\n"
     ]
    }
   ],
   "source": [
    "clf = RandomForestClassifier()\n",
    "scores = cross_val_score(clf, X_all, y_true, scoring='accuracy')\n",
    "print(\"Using whether the home team is ranked higher\")\n",
    "print(\"Accuracy: {0:.1f}%\".format(np.mean(scores) * 100))"
   ]
  },
  {
   "cell_type": "code",
   "execution_count": 36,
   "metadata": {
    "collapsed": false
   },
   "outputs": [
    {
     "name": "stdout",
     "output_type": "stream",
     "text": [
      "Accuracy: 60.2%\n",
      "RandomForestClassifier(bootstrap=True, class_weight=None, criterion='entropy',\n",
      "            max_depth=None, max_features='auto', max_leaf_nodes=None,\n",
      "            min_impurity_split=1e-07, min_samples_leaf=6,\n",
      "            min_samples_split=2, min_weight_fraction_leaf=0.0,\n",
      "            n_estimators=100, n_jobs=1, oob_score=False, random_state=None,\n",
      "            verbose=0, warm_start=False)\n"
     ]
    }
   ],
   "source": [
    "#n_estimators=10, criterion='gini', max_depth=None, \n",
    "#min_samples_split=2, min_samples_leaf=1,\n",
    "#max_features='auto',\n",
    "#max_leaf_nodes=None, bootstrap=True,\n",
    "#oob_score=False, n_jobs=1,\n",
    "#random_state=None, verbose=0, min_density=None, compute_importances=None\n",
    "parameter_space = {\n",
    "                   \"max_features\": [2, 10, 'auto'],\n",
    "                   \"n_estimators\": [100,],\n",
    "                   \"criterion\": [\"gini\", \"entropy\"],\n",
    "                   \"min_samples_leaf\": [2, 4, 6],\n",
    "                   }\n",
    "clf = RandomForestClassifier()\n",
    "grid = GridSearchCV(clf, parameter_space)\n",
    "grid.fit(X_all, y_true)\n",
    "print(\"Accuracy: {0:.1f}%\".format(grid.best_score_ * 100))\n",
    "print(grid.best_estimator_)"
   ]
  },
  {
   "cell_type": "code",
   "execution_count": null,
   "metadata": {
    "collapsed": true
   },
   "outputs": [],
   "source": []
  },
  {
   "cell_type": "code",
   "execution_count": null,
   "metadata": {
    "collapsed": true
   },
   "outputs": [],
   "source": []
  }
 ],
 "metadata": {
  "kernelspec": {
   "display_name": "Python 3",
   "language": "python",
   "name": "python3"
  },
  "language_info": {
   "codemirror_mode": {
    "name": "ipython",
    "version": 3
   },
   "file_extension": ".py",
   "mimetype": "text/x-python",
   "name": "python",
   "nbconvert_exporter": "python",
   "pygments_lexer": "ipython3",
   "version": "3.4.5"
  }
 },
 "nbformat": 4,
 "nbformat_minor": 2
}
